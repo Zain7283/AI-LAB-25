{
 "cells": [
  {
   "cell_type": "markdown",
   "id": "73deb886",
   "metadata": {},
   "source": [
    "## **Task 8**"
   ]
  },
  {
   "cell_type": "code",
   "execution_count": null,
   "id": "c83a853d",
   "metadata": {},
   "outputs": [
    {
     "name": "stdout",
     "output_type": "stream",
     "text": [
      "Leaf node values: [3, 5, 6, 9, 1, 2, 0, -1]\n",
      "Best (Optimal) value is: 5\n"
     ]
    }
   ],
   "source": [
    "def minimax(depth, isMaxPlayer, values):\n",
    "    if depth == len(values):\n",
    "        return values[depth - 1]\n",
    "    \n",
    "    if len(values) == 1:\n",
    "        return values[0]\n",
    "\n",
    "    mid = len(values) // 2\n",
    "    left = values[:mid]\n",
    "    right = values[mid:]\n",
    "\n",
    "    if isMaxPlayer:\n",
    "        return max(minimax(depth + 1, False, left),\n",
    "            minimax(depth + 1, False, right))\n",
    "    else:\n",
    "        return min(minimax(depth + 1, True, left),\n",
    "            minimax(depth + 1, True, right))\n",
    "\n",
    "\n",
    "values = [3, 5, 6, 9, 1, 2, 0, -1]\n",
    "print(\"Leaf node values:\", values)\n",
    "\n",
    "result = minimax(0, True, values)\n",
    "print(\"Best (Optimal) value is:\", result)\n"
   ]
  }
 ],
 "metadata": {
  "kernelspec": {
   "display_name": "base",
   "language": "python",
   "name": "python3"
  },
  "language_info": {
   "codemirror_mode": {
    "name": "ipython",
    "version": 3
   },
   "file_extension": ".py",
   "mimetype": "text/x-python",
   "name": "python",
   "nbconvert_exporter": "python",
   "pygments_lexer": "ipython3",
   "version": "3.12.7"
  }
 },
 "nbformat": 4,
 "nbformat_minor": 5
}
