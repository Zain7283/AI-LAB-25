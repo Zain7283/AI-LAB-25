{
 "cells": [
  {
   "cell_type": "markdown",
   "id": "dade63d2",
   "metadata": {},
   "source": [
    "## **Task 5** "
   ]
  },
  {
   "cell_type": "code",
   "execution_count": 1,
   "id": "7ce6780c",
   "metadata": {},
   "outputs": [
    {
     "name": "stdout",
     "output_type": "stream",
     "text": [
      "DFS using Stack:\n",
      "A B D E F C "
     ]
    }
   ],
   "source": [
    "def dfs_stack(graph, start):\n",
    "    visited = set()      \n",
    "    stack = [start]      \n",
    "\n",
    "    while stack:         \n",
    "        vertex = stack.pop()  \n",
    "        if vertex not in visited:\n",
    "            print(vertex, end=\" \")  \n",
    "            visited.add(vertex)\n",
    "\n",
    "            for neighbor in reversed(graph[vertex]):\n",
    "                if neighbor not in visited:\n",
    "                    stack.append(neighbor)\n",
    "\n",
    "\n",
    "graph = {\n",
    "    'A': ['B', 'C'],\n",
    "    'B': ['D', 'E'],\n",
    "    'C': ['F'],\n",
    "    'D': [],\n",
    "    'E': ['F'],\n",
    "    'F': []\n",
    "}\n",
    "\n",
    "print(\"DFS using Stack:\")\n",
    "dfs_stack(graph, 'A')"
   ]
  }
 ],
 "metadata": {
  "kernelspec": {
   "display_name": "base",
   "language": "python",
   "name": "python3"
  },
  "language_info": {
   "codemirror_mode": {
    "name": "ipython",
    "version": 3
   },
   "file_extension": ".py",
   "mimetype": "text/x-python",
   "name": "python",
   "nbconvert_exporter": "python",
   "pygments_lexer": "ipython3",
   "version": "3.12.7"
  }
 },
 "nbformat": 4,
 "nbformat_minor": 5
}
