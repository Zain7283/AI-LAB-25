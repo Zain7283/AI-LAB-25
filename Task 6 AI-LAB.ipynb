{
 "cells": [
  {
   "cell_type": "markdown",
   "id": "1dc8c4be",
   "metadata": {},
   "source": [
    "**LAB TASK 6**"
   ]
  },
  {
   "cell_type": "markdown",
   "id": "350db543",
   "metadata": {},
   "source": [
    "**Zain Ali**"
   ]
  },
  {
   "cell_type": "markdown",
   "id": "7851d975",
   "metadata": {},
   "source": [
    "## **BFS without QUEUE:-**"
   ]
  },
  {
   "cell_type": "code",
   "execution_count": 4,
   "id": "1f75fe7b",
   "metadata": {},
   "outputs": [
    {
     "name": "stdout",
     "output_type": "stream",
     "text": [
      "BFS without Queue:\n",
      "A B C D E F "
     ]
    }
   ],
   "source": [
    "tree = {\n",
    "    'A': ['B', 'C'],\n",
    "    'B': ['D', 'E'],\n",
    "    'C': ['F'],\n",
    "    'D': [],\n",
    "    'E': ['F'],\n",
    "    'F': []\n",
    "}\n",
    "\n",
    "def bfs_without_queue(tree, start):\n",
    "    visited = set()\n",
    "    visited.add(start)\n",
    "    level = [start]\n",
    "\n",
    "    while level:              \n",
    "        next_level = []       \n",
    "        for node in level:\n",
    "            print(node, end=\" \")\n",
    "            for neighbour in tree[node]:\n",
    "                if neighbour not in visited:\n",
    "                    visited.add(neighbour)\n",
    "                    next_level.append(neighbour)\n",
    "        level = next_level   \n",
    "\n",
    "print(\"BFS without Queue:\")\n",
    "bfs_without_queue(tree, 'A')\n"
   ]
  },
  {
   "cell_type": "markdown",
   "id": "47b0fefc",
   "metadata": {},
   "source": [
    "## **BFS with QUEUE:-**"
   ]
  },
  {
   "cell_type": "code",
   "execution_count": 5,
   "id": "8e965eff",
   "metadata": {},
   "outputs": [
    {
     "name": "stdout",
     "output_type": "stream",
     "text": [
      "\n",
      "BFS with Queue:\n",
      "A B C D E F "
     ]
    }
   ],
   "source": [
    "from collections import deque\n",
    "\n",
    "tree = {\n",
    "    'A': ['B', 'C'],\n",
    "    'B': ['D', 'E'],\n",
    "    'C': ['F'],\n",
    "    'D': [],\n",
    "    'E': ['F'],\n",
    "    'F': []\n",
    "}\n",
    "\n",
    "def bfs_with_queue(tree, start):\n",
    "    visited = set()\n",
    "    queue = deque([start]) \n",
    "    visited.add(start)\n",
    "\n",
    "    while queue:\n",
    "        node = queue.popleft()\n",
    "        print(node, end=\" \")\n",
    "\n",
    "        for neighbour in tree[node]:\n",
    "            if neighbour not in visited:\n",
    "                visited.add(neighbour)\n",
    "                queue.append(neighbour)\n",
    "\n",
    "print(\"\\nBFS with Queue:\")\n",
    "bfs_with_queue(tree, 'A')\n"
   ]
  },
  {
   "cell_type": "code",
   "execution_count": null,
   "id": "eb16e18e",
   "metadata": {},
   "outputs": [],
   "source": []
  }
 ],
 "metadata": {
  "kernelspec": {
   "display_name": "base",
   "language": "python",
   "name": "python3"
  },
  "language_info": {
   "codemirror_mode": {
    "name": "ipython",
    "version": 3
   },
   "file_extension": ".py",
   "mimetype": "text/x-python",
   "name": "python",
   "nbconvert_exporter": "python",
   "pygments_lexer": "ipython3",
   "version": "3.12.7"
  }
 },
 "nbformat": 4,
 "nbformat_minor": 5
}
