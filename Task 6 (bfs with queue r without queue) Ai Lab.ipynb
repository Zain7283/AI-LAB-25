{
 "cells": [
  {
   "cell_type": "markdown",
   "id": "a2462c6c",
   "metadata": {},
   "source": [
    "## **__Task 6__**"
   ]
  },
  {
   "cell_type": "code",
   "execution_count": 1,
   "id": "371b3726",
   "metadata": {},
   "outputs": [
    {
     "name": "stdout",
     "output_type": "stream",
     "text": [
      "BFS without Queue & without Node:\n",
      "A B C D E F "
     ]
    }
   ],
   "source": [
    "graph = {\n",
    "    'A': ['B', 'C'],\n",
    "    'B': ['D', 'E'],\n",
    "    'C': ['F'],\n",
    "    'D': [],\n",
    "    'E': [],\n",
    "    'F': []\n",
    "}\n",
    "\n",
    "def bfs_list(start):\n",
    "    visited = []\n",
    "    to_visit = [start]  \n",
    "\n",
    "    while to_visit:\n",
    "        node = to_visit[0]\n",
    "        to_visit = to_visit[1:]\n",
    "\n",
    "        if node not in visited:\n",
    "            print(node, end=\" \")\n",
    "            visited.append(node)\n",
    "            to_visit.extend(graph[node])\n",
    "\n",
    "print(\"BFS without Queue & without Node:\")\n",
    "bfs_list('A')\n"
   ]
  },
  {
   "cell_type": "code",
   "execution_count": 3,
   "id": "1fd1be75",
   "metadata": {},
   "outputs": [
    {
     "name": "stdout",
     "output_type": "stream",
     "text": [
      "\n",
      "BFS with Queue & Node:\n",
      "A B C D E F "
     ]
    }
   ],
   "source": [
    "from collections import deque\n",
    "class Node:\n",
    "    def __init__(self, value):\n",
    "        self.value = value\n",
    "        self.left = None\n",
    "        self.right = None\n",
    "\n",
    "def bfs_with_queue(root):\n",
    "    if not root:\n",
    "        return\n",
    "    queue = deque([root])\n",
    "    while queue:\n",
    "        node = queue.popleft()\n",
    "        print(node.value, end=\" \")\n",
    "        if node.left:\n",
    "            queue.append(node.left)\n",
    "        if node.right:\n",
    "            queue.append(node.right)\n",
    "root = Node('A')\n",
    "root.left = Node('B')\n",
    "root.right = Node('C')\n",
    "root.left.left = Node('D')\n",
    "root.left.right = Node('E')\n",
    "root.right.right = Node('F')\n",
    "\n",
    "print(\"\\nBFS with Queue & Node:\")\n",
    "bfs_with_queue(root)\n"
   ]
  },
  {
   "cell_type": "code",
   "execution_count": null,
   "id": "b772169a",
   "metadata": {},
   "outputs": [],
   "source": []
  }
 ],
 "metadata": {
  "kernelspec": {
   "display_name": "base",
   "language": "python",
   "name": "python3"
  },
  "language_info": {
   "codemirror_mode": {
    "name": "ipython",
    "version": 3
   },
   "file_extension": ".py",
   "mimetype": "text/x-python",
   "name": "python",
   "nbconvert_exporter": "python",
   "pygments_lexer": "ipython3",
   "version": "3.13.2"
  }
 },
 "nbformat": 4,
 "nbformat_minor": 5
}
