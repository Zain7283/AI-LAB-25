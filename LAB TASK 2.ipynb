{
 "cells": [
  {
   "cell_type": "code",
   "execution_count": 1,
   "id": "6fc7aed6",
   "metadata": {},
   "outputs": [
    {
     "name": "stdout",
     "output_type": "stream",
     "text": [
      "computer -> 2 | user -> Fizz\n",
      "computer -> 7 | user -> Fizz\n"
     ]
    }
   ],
   "source": [
    "def fizzbuzzgame(n: int) -> str:\n",
    "    if n % 15 == 0:\n",
    "        return \"Fizz Buzz\"\n",
    "    elif n % 3 == 0:\n",
    "        return \"Fizz\"\n",
    "    elif n % 5 == 0:\n",
    "        return \"Buzz\"\n",
    "    else:\n",
    "        return str(n)\n",
    "    \n",
    "def prev_and_curr(numbers):\n",
    "    list = []\n",
    "    for i in range(1, len(numbers)):\n",
    "        t = numbers[i-1] + numbers[i]           \n",
    "        list.append((numbers[i], fizzbuzzgame(t)))\n",
    "    return list\n",
    "\n",
    "moves = [1, 2, 7]  \n",
    "for move, say in prev_and_curr(moves):\n",
    "    print(f\"computer -> {move} | user -> {say}\")"
   ]
  },
  {
   "cell_type": "code",
   "execution_count": null,
   "id": "89c6894d",
   "metadata": {},
   "outputs": [],
   "source": []
  }
 ],
 "metadata": {
  "kernelspec": {
   "display_name": "base",
   "language": "python",
   "name": "python3"
  },
  "language_info": {
   "codemirror_mode": {
    "name": "ipython",
    "version": 3
   },
   "file_extension": ".py",
   "mimetype": "text/x-python",
   "name": "python",
   "nbconvert_exporter": "python",
   "pygments_lexer": "ipython3",
   "version": "3.12.7"
  }
 },
 "nbformat": 4,
 "nbformat_minor": 5
}
