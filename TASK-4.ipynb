{
 "cells": [
  {
   "cell_type": "markdown",
   "id": "fb9ea555",
   "metadata": {},
   "source": [
    "## **__Task 4__**\n",
    "## **__Zain Ali__**"
   ]
  },
  {
   "cell_type": "code",
   "execution_count": 2,
   "id": "3a673391",
   "metadata": {},
   "outputs": [
    {
     "name": "stderr",
     "output_type": "stream",
     "text": [
      "<>:20: SyntaxWarning: invalid escape sequence '\\,'\n",
      "<>:20: SyntaxWarning: invalid escape sequence '\\,'\n",
      "C:\\Users\\lenovo\\AppData\\Local\\Temp\\ipykernel_11448\\2487692285.py:20: SyntaxWarning: invalid escape sequence '\\,'\n",
      "  punc = '''!()-[]{};:'\"\\,<>./?@#$%^&*_~'''\n"
     ]
    },
    {
     "name": "stdout",
     "output_type": "stream",
     "text": [
      "Valid Card\n",
      "Without punctuations: python is a powerful and easy language\n",
      "Alphabetical order: a and easy is language powerful python\n"
     ]
    }
   ],
   "source": [
    "num = input(\"Enter card number: \")   \n",
    "num = num.replace(\" \", \"\")\n",
    "total = 0\n",
    "rev = num[::-1]\n",
    "\n",
    "for i in range(len(rev)):\n",
    "    n = int(rev[i])\n",
    "    if i % 2 == 1:    \n",
    "        n = n * 2\n",
    "        if n > 9:\n",
    "            n = n - 9\n",
    "    total = total + n\n",
    "\n",
    "if total % 10 == 0:\n",
    "    print(\"Valid Card\")\n",
    "else:\n",
    "    print(\"Invalid Card\")\n",
    "    \n",
    "txt = input(\"Enter a string: \")  \n",
    "punc = '''!()-[]{};:'\"\\,<>./?@#$%^&*_~'''\n",
    "res = \"\"\n",
    "for ch in txt:\n",
    "    if ch not in punc:\n",
    "        res = res + ch\n",
    "print(\"Without punctuations:\", res)\n",
    "sen = input(\"Enter a sentence: \")  \n",
    "words = sen.split()\n",
    "words.sort()\n",
    "print(\"Alphabetical order:\", \" \".join(words))\n",
    "    \n"
   ]
  }
 ],
 "metadata": {
  "kernelspec": {
   "display_name": "base",
   "language": "python",
   "name": "python3"
  },
  "language_info": {
   "codemirror_mode": {
    "name": "ipython",
    "version": 3
   },
   "file_extension": ".py",
   "mimetype": "text/x-python",
   "name": "python",
   "nbconvert_exporter": "python",
   "pygments_lexer": "ipython3",
   "version": "3.12.7"
  }
 },
 "nbformat": 4,
 "nbformat_minor": 5
}
