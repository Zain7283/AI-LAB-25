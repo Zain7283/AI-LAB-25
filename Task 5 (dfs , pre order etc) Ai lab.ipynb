{
 "cells": [
  {
   "cell_type": "markdown",
   "id": "54c1f216",
   "metadata": {},
   "source": [
    "## **__Task 5__**"
   ]
  },
  {
   "cell_type": "code",
   "execution_count": 1,
   "id": "340c1936",
   "metadata": {},
   "outputs": [
    {
     "name": "stdout",
     "output_type": "stream",
     "text": [
      "DFS using Stack:\n",
      "A B D E C F "
     ]
    }
   ],
   "source": [
    "graph = {\n",
    "    'A': ['B', 'C'],\n",
    "    'B': ['D', 'E'],\n",
    "    'C': ['F'],\n",
    "    'D': [],\n",
    "    'E': [],\n",
    "    'F': []\n",
    "}\n",
    "\n",
    "def dfs_stack(start):\n",
    "    visited = set()\n",
    "    stack = [start]\n",
    "\n",
    "    while stack:\n",
    "        node = stack.pop() \n",
    "        if node not in visited:\n",
    "            print(node, end=\" \")\n",
    "            visited.add(node)\n",
    "            stack.extend(reversed(graph[node]))\n",
    "print(\"DFS using Stack:\")\n",
    "dfs_stack('A')\n"
   ]
  },
  {
   "cell_type": "code",
   "execution_count": 2,
   "id": "42dde6f1",
   "metadata": {},
   "outputs": [
    {
     "name": "stdout",
     "output_type": "stream",
     "text": [
      "\n",
      "Inorder Traversal:\n",
      "D B E A C F \n",
      "Preorder Traversal:\n",
      "A B D E C F \n",
      "Postorder Traversal:\n",
      "D E B F C A "
     ]
    }
   ],
   "source": [
    "class Node:\n",
    "    def __init__(self, value):\n",
    "        self.value = value\n",
    "        self.left = None\n",
    "        self.right = None\n",
    "        \n",
    "def inorder(root):\n",
    "    if root:\n",
    "        inorder(root.left)\n",
    "        print(root.value, end=\" \")\n",
    "        inorder(root.right)\n",
    "def preorder(root):\n",
    "    if root:\n",
    "        print(root.value, end=\" \")\n",
    "        preorder(root.left)\n",
    "        preorder(root.right)\n",
    "def postorder(root):\n",
    "    if root:\n",
    "        postorder(root.left)\n",
    "        postorder(root.right)\n",
    "        print(root.value, end=\" \")\n",
    "root = Node('A')\n",
    "root.left = Node('B')\n",
    "root.right = Node('C')\n",
    "root.left.left = Node('D')\n",
    "root.left.right = Node('E')\n",
    "root.right.right = Node('F')\n",
    "\n",
    "print(\"\\nInorder Traversal:\")\n",
    "inorder(root)\n",
    "\n",
    "print(\"\\nPreorder Traversal:\")\n",
    "preorder(root)\n",
    "\n",
    "print(\"\\nPostorder Traversal:\")\n",
    "postorder(root)\n"
   ]
  }
 ],
 "metadata": {
  "kernelspec": {
   "display_name": "base",
   "language": "python",
   "name": "python3"
  },
  "language_info": {
   "codemirror_mode": {
    "name": "ipython",
    "version": 3
   },
   "file_extension": ".py",
   "mimetype": "text/x-python",
   "name": "python",
   "nbconvert_exporter": "python",
   "pygments_lexer": "ipython3",
   "version": "3.13.2"
  }
 },
 "nbformat": 4,
 "nbformat_minor": 5
}
