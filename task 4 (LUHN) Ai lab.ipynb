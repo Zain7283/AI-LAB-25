{
 "cells": [
  {
   "cell_type": "markdown",
   "id": "ffc1c917",
   "metadata": {},
   "source": [
    "## **__Task 4__**"
   ]
  },
  {
   "cell_type": "code",
   "execution_count": 3,
   "id": "ab976286",
   "metadata": {},
   "outputs": [
    {
     "name": "stdout",
     "output_type": "stream",
     "text": [
      "Task 1: Luhn Algorithm\n",
      "True\n",
      "False\n",
      "\n",
      "Task 2: Remove Punctuations\n",
      "Am Zain Ali\n",
      "\n",
      "Task 3: Sort Sentence Alphabetically\n",
      "ali is lab our rakish teacher\n"
     ]
    }
   ],
   "source": [
    "import string\n",
    "def luhn_algorithm(card_number):\n",
    "    digits = [int(d) for d in str(card_number)]\n",
    "    checksum = 0\n",
    "    for i, d in enumerate(digits[::-1]): \n",
    "        if i % 2 == 1:  \n",
    "            d *= 2\n",
    "            if d > 9:\n",
    "                d -= 9\n",
    "        checksum += d\n",
    "    \n",
    "    return checksum % 10 == 0\n",
    "\n",
    "def remove_punctuations(text):\n",
    "    return \"\".join(ch for ch in text if ch not in string.punctuation)\n",
    "\n",
    "def sort_sentence(sentence):\n",
    "    words = sentence.split()\n",
    "    words.sort()\n",
    "    return \" \".join(words)\n",
    "\n",
    "if __name__ == \"__main__\":\n",
    "    print(\"Task 1: Luhn Algorithm\")\n",
    "    print(luhn_algorithm(4532015112830366))  \n",
    "    print(luhn_algorithm(8273123273520569)) \n",
    "    print()\n",
    "    \n",
    "    print(\"Task 2: Remove Punctuations\")\n",
    "    sentence = \"Am Zain Ali.\"\n",
    "    print(remove_punctuations(sentence))\n",
    "    print()\n",
    "\n",
    "    print(\"Task 3: Sort Sentence Alphabetically\")\n",
    "    sentence = \"our lab teacher is rakish ali\"\n",
    "    print(sort_sentence(sentence))\n"
   ]
  }
 ],
 "metadata": {
  "kernelspec": {
   "display_name": "base",
   "language": "python",
   "name": "python3"
  },
  "language_info": {
   "codemirror_mode": {
    "name": "ipython",
    "version": 3
   },
   "file_extension": ".py",
   "mimetype": "text/x-python",
   "name": "python",
   "nbconvert_exporter": "python",
   "pygments_lexer": "ipython3",
   "version": "3.13.2"
  }
 },
 "nbformat": 4,
 "nbformat_minor": 5
}
