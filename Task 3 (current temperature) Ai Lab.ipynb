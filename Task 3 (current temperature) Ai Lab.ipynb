{
 "cells": [
  {
   "cell_type": "markdown",
   "id": "59887ea8",
   "metadata": {},
   "source": [
    "## **__Task 3__**"
   ]
  },
  {
   "cell_type": "code",
   "execution_count": 1,
   "id": "2405cf79",
   "metadata": {},
   "outputs": [
    {
     "name": "stdout",
     "output_type": "stream",
     "text": [
      "Current Temp: 20°C -> Action: Turn Heater ON\n",
      "Current Temp: 21°C -> Action: Do Nothing\n",
      "Current Temp: 22°C -> Action: No Change\n",
      "Current Temp: 23°C -> Action: Do Nothing\n",
      "Current Temp: 24°C -> Action: Turn Heater OFF\n",
      "Current Temp: 22°C -> Action: Do Nothing\n",
      "Current Temp: 21°C -> Action: No Change\n",
      "Current Temp: 20°C -> Action: Turn Heater ON\n"
     ]
    }
   ],
   "source": [
    "class ModelBasedReflexAgent:\n",
    "    def __init__(self, desired_temp):\n",
    "        self.desired_temp = desired_temp\n",
    "        self.last_action = None\n",
    "\n",
    "    def perceive_and_act(self, current_temp):\n",
    "        if current_temp < self.desired_temp - 1: \n",
    "            action = \"Turn Heater ON\"\n",
    "        elif current_temp > self.desired_temp + 1: \n",
    "            action = \"Turn Heater OFF\"\n",
    "        else:\n",
    "            action = \"Do Nothing\"\n",
    "\n",
    "        if action == self.last_action:\n",
    "            action = \"No Change\"\n",
    "        self.last_action = action\n",
    "        return action\n",
    "\n",
    "agent = ModelBasedReflexAgent(desired_temp=22)  \n",
    "\n",
    "temperatures = [20, 21, 22, 23, 24, 22, 21, 20]  \n",
    "for temp in temperatures:\n",
    "    print(f\"Current Temp: {temp}°C -> Action: {agent.perceive_and_act(temp)}\")\n"
   ]
  }
 ],
 "metadata": {
  "kernelspec": {
   "display_name": "base",
   "language": "python",
   "name": "python3"
  },
  "language_info": {
   "codemirror_mode": {
    "name": "ipython",
    "version": 3
   },
   "file_extension": ".py",
   "mimetype": "text/x-python",
   "name": "python",
   "nbconvert_exporter": "python",
   "pygments_lexer": "ipython3",
   "version": "3.13.2"
  }
 },
 "nbformat": 4,
 "nbformat_minor": 5
}
