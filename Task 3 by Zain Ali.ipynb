{
 "cells": [
  {
   "cell_type": "markdown",
   "id": "c1fe5e71",
   "metadata": {},
   "source": [
    "## **Task 3**"
   ]
  },
  {
   "cell_type": "code",
   "execution_count": 5,
   "id": "ddbdcd5c",
   "metadata": {},
   "outputs": [
    {
     "name": "stdout",
     "output_type": "stream",
     "text": [
      "Temperature: 18°C, Heater ON\n",
      "Temperature: 20°C, No Change, Heater ON\n",
      "Temperature: 21°C, No Change, Heater ON\n",
      "Temperature: 22°C, No Change, Heater ON\n",
      "Temperature: 23°C, Heater OFF\n",
      "Temperature: 24°C, No Change, Heater OFF\n",
      "Temperature: 25°C, No Change, Heater OFF\n",
      "Temperature: 26°C, No Change, Heater OFF\n"
     ]
    }
   ],
   "source": [
    "class ReflexAgent:\n",
    "    def __init__(self):\n",
    "        self.last_action = None\n",
    "        \n",
    "    def decide(self, temperature):\n",
    "        if temperature <= 22 and self.last_action != \"ON\":\n",
    "            self.last_action = \"ON\"\n",
    "            return \"Heater ON\"\n",
    "        elif temperature > 22 and self.last_action != \"OFF\":\n",
    "            self.last_action = \"OFF\"\n",
    "            return \"Heater OFF\"\n",
    "        else:\n",
    "            return f\"No Change, Heater {self.last_action}\"\n",
    "\n",
    "agent = ReflexAgent()\n",
    "temperatures = [18, 20, 21, 22, 23, 24, 25, 26,]\n",
    "\n",
    "for t in temperatures:\n",
    "    print(f\"Temperature: {t}°C, {agent.decide(t)}\")\n"
   ]
  },
  {
   "cell_type": "code",
   "execution_count": null,
   "id": "92eb2fad",
   "metadata": {},
   "outputs": [],
   "source": []
  }
 ],
 "metadata": {
  "kernelspec": {
   "display_name": "base",
   "language": "python",
   "name": "python3"
  },
  "language_info": {
   "codemirror_mode": {
    "name": "ipython",
    "version": 3
   },
   "file_extension": ".py",
   "mimetype": "text/x-python",
   "name": "python",
   "nbconvert_exporter": "python",
   "pygments_lexer": "ipython3",
   "version": "3.13.2"
  }
 },
 "nbformat": 4,
 "nbformat_minor": 5
}
