{
 "cells": [
  {
   "cell_type": "markdown",
   "id": "5a721f96",
   "metadata": {},
   "source": [
    "## **Lab Task 7**"
   ]
  },
  {
   "cell_type": "code",
   "execution_count": 3,
   "id": "89b97463",
   "metadata": {},
   "outputs": [
    {
     "name": "stdout",
     "output_type": "stream",
     "text": [
      "Shortest Path using A* Algorithm: ['A', 'B', 'E', 'G']\n"
     ]
    }
   ],
   "source": [
    "from queue import PriorityQueue\n",
    "def a_star(graph, start, goal, heuristic):\n",
    "    open_list = PriorityQueue()\n",
    "    open_list.put((0, start)) \n",
    "    came_from = {}          \n",
    "    g_score = {node: float('inf') for node in graph}\n",
    "    g_score[start] = 0\n",
    "\n",
    "    while not open_list.empty():\n",
    "        current = open_list.get()[1]\n",
    "\n",
    "        if current == goal:\n",
    "            path = []\n",
    "            while current in came_from:\n",
    "                path.append(current)\n",
    "                current = came_from[current]\n",
    "            path.append(start)\n",
    "            path.reverse()\n",
    "            return path\n",
    "\n",
    "        for neighbor, cost in graph[current].items():\n",
    "            tentative_g = g_score[current] + cost\n",
    "            if tentative_g < g_score[neighbor]:\n",
    "                came_from[neighbor] = current\n",
    "                g_score[neighbor] = tentative_g\n",
    "                f_score = tentative_g + heuristic[neighbor]\n",
    "                open_list.put((f_score, neighbor))\n",
    "\n",
    "    return None\n",
    "\n",
    "graph = {\n",
    "    'A': {'B': 1, 'C': 3},\n",
    "    'B': {'A': 1, 'D': 3, 'E': 1},\n",
    "    'C': {'A': 3, 'F': 5},\n",
    "    'D': {'B': 3, 'E': 1, 'G': 2},\n",
    "    'E': {'B': 1, 'D': 1, 'G': 1},\n",
    "    'F': {'C': 5, 'G': 2},\n",
    "    'G': {'D': 2, 'E': 1, 'F': 2}\n",
    "}\n",
    "\n",
    "heuristic = {\n",
    "    'A': 7, 'B': 6, 'C': 2,\n",
    "    'D': 1, 'E': 3, 'F': 1,\n",
    "    'G': 0\n",
    "}\n",
    "\n",
    "start = 'A'\n",
    "goal = 'G'\n",
    "\n",
    "path = a_star(graph, start, goal, heuristic)\n",
    "print(\"Shortest Path using A* Algorithm:\", path)\n"
   ]
  }
 ],
 "metadata": {
  "kernelspec": {
   "display_name": "base",
   "language": "python",
   "name": "python3"
  },
  "language_info": {
   "codemirror_mode": {
    "name": "ipython",
    "version": 3
   },
   "file_extension": ".py",
   "mimetype": "text/x-python",
   "name": "python",
   "nbconvert_exporter": "python",
   "pygments_lexer": "ipython3",
   "version": "3.12.7"
  }
 },
 "nbformat": 4,
 "nbformat_minor": 5
}
